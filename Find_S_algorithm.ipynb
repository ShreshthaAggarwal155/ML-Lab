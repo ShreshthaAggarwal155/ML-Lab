{
  "cells": [
    {
      "cell_type": "markdown",
      "metadata": {
        "id": "view-in-github",
        "colab_type": "text"
      },
      "source": [
        "<a href=\"https://colab.research.google.com/github/ShreshthaAggarwal155/ML-Lab/blob/main/Find_S_algorithm.ipynb\" target=\"_parent\"><img src=\"https://colab.research.google.com/assets/colab-badge.svg\" alt=\"Open In Colab\"/></a>"
      ]
    },
    {
      "cell_type": "code",
      "source": [
        "import pandas as pd\n",
        "import numpy as np\n"
      ],
      "metadata": {
        "id": "Z1I-MmvtciK1"
      },
      "execution_count": 26,
      "outputs": []
    },
    {
      "cell_type": "code",
      "source": [
        "data=pd.read_csv(\"data.csv\")\n",
        "print(data)"
      ],
      "metadata": {
        "colab": {
          "base_uri": "https://localhost:8080/"
        },
        "id": "dJQzy9Xhcw7d",
        "outputId": "fe2dab17-1e2a-4444-a593-a714f9676019"
      },
      "execution_count": 27,
      "outputs": [
        {
          "output_type": "stream",
          "name": "stdout",
          "text": [
            "     sky air temp humidity    wind water forecast enjoy sport\n",
            "0  sunny     warm   normal  strong  warm     same         yes\n",
            "1  sunny     warm     high  strong  warm     same         yes\n",
            "2  rainy     cold     high  strong  warm   change          no\n",
            "3  sunny     warm     high  strong  cool   change         yes\n"
          ]
        }
      ]
    },
    {
      "cell_type": "code",
      "source": [
        "d=np.array(data)[:,:-1]\n",
        "print(\"The attributes are : \\n\",d)\n",
        "target=np.array(data)[:,-1]\n",
        "print(\"\\nThe target is : \",target)"
      ],
      "metadata": {
        "colab": {
          "base_uri": "https://localhost:8080/"
        },
        "id": "kOR4gcAKdLDL",
        "outputId": "7183ee4d-43ba-4cfc-a588-4e127305b5bc"
      },
      "execution_count": 28,
      "outputs": [
        {
          "output_type": "stream",
          "name": "stdout",
          "text": [
            "The attributes are : \n",
            " [['sunny' 'warm' 'normal' 'strong' 'warm' 'same']\n",
            " ['sunny' 'warm' 'high' 'strong' 'warm' 'same']\n",
            " ['rainy' 'cold' 'high' 'strong' 'warm' 'change']\n",
            " ['sunny' 'warm' 'high' 'strong' 'cool' 'change']]\n",
            "\n",
            "The target is :  ['yes' 'yes' 'no' 'yes']\n"
          ]
        }
      ]
    },
    {
      "cell_type": "code",
      "source": [
        "def train(c,t):\n",
        "  for i,val in enumerate(t):\n",
        "    if val == \"yes\":\n",
        "      specific_hypothesis=c[i].copy()\n",
        "      break\n",
        "  \n",
        "  for i,val in enumerate(c):\n",
        "    if t[i] == \"yes\":\n",
        "      for x in range(len(specific_hypothesis)):\n",
        "        if val[x] != specific_hypothesis[x]:\n",
        "          specific_hypothesis[x] = '?'\n",
        "        else:\n",
        "          pass\n",
        "\n",
        "  return specific_hypothesis"
      ],
      "metadata": {
        "id": "hVRrTgj1dvyg"
      },
      "execution_count": 29,
      "outputs": []
    },
    {
      "cell_type": "code",
      "source": [
        "print(\"The final hypothesis is : \",train(d,target))"
      ],
      "metadata": {
        "colab": {
          "base_uri": "https://localhost:8080/"
        },
        "id": "dJecQ1Gred7v",
        "outputId": "0deef206-d64f-4f2d-c725-f855bf9dada2"
      },
      "execution_count": 30,
      "outputs": [
        {
          "output_type": "stream",
          "name": "stdout",
          "text": [
            "The final hypothesis is :  ['sunny' 'warm' '?' 'strong' '?' '?']\n"
          ]
        }
      ]
    }
  ],
  "metadata": {
    "colab": {
      "name": "Find S algorithm.ipynb",
      "provenance": [],
      "authorship_tag": "ABX9TyNmWAoNQCuHeEtPXNN5HEG/",
      "include_colab_link": true
    },
    "kernelspec": {
      "display_name": "Python 3",
      "name": "python3"
    },
    "language_info": {
      "name": "python"
    }
  },
  "nbformat": 4,
  "nbformat_minor": 0
}